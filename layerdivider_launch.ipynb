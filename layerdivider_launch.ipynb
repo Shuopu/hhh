{
  "cells": [
    {
      "cell_type": "markdown",
      "metadata": {
        "id": "view-in-github",
        "colab_type": "text"
      },
      "source": [
        "<a href=\"https://colab.research.google.com/github/Shuopu/hhh/blob/main/layerdivider_launch.ipynb\" target=\"_parent\"><img src=\"https://colab.research.google.com/assets/colab-badge.svg\" alt=\"Open In Colab\"/></a>"
      ]
    },
    {
      "cell_type": "code",
      "execution_count": null,
      "metadata": {
        "id": "SK7Eb8m4LSJd"
      },
      "outputs": [],
      "source": [
        "#Please set runtime to GPU"
      ]
    },
    {
      "cell_type": "code",
      "execution_count": 1,
      "metadata": {
        "colab": {
          "base_uri": "https://localhost:8080/"
        },
        "id": "NO8Z3J065WPz",
        "outputId": "4d0cbde9-818a-4b93-f70e-d2f039355a4a"
      },
      "outputs": [
        {
          "output_type": "stream",
          "name": "stdout",
          "text": [
            "Cloning into 'layerdivider'...\n",
            "remote: Enumerating objects: 439, done.\u001b[K\n",
            "remote: Counting objects: 100% (162/162), done.\u001b[K\n",
            "remote: Compressing objects: 100% (66/66), done.\u001b[K\n",
            "remote: Total 439 (delta 127), reused 116 (delta 96), pack-reused 277 (from 1)\u001b[K\n",
            "Receiving objects: 100% (439/439), 28.47 MiB | 21.52 MiB/s, done.\n",
            "Resolving deltas: 100% (255/255), done.\n"
          ]
        }
      ],
      "source": [
        "!git clone https://github.com/mattyamonaca/layerdivider.git"
      ]
    },
    {
      "cell_type": "code",
      "execution_count": 2,
      "metadata": {
        "colab": {
          "base_uri": "https://localhost:8080/"
        },
        "id": "cCKcMIpC5aJJ",
        "outputId": "66ab2d45-2c68-4f5d-e020-c3f4be1189cb"
      },
      "outputs": [
        {
          "output_type": "stream",
          "name": "stdout",
          "text": [
            "/content/layerdivider\n"
          ]
        }
      ],
      "source": [
        "%cd layerdivider"
      ]
    },
    {
      "cell_type": "code",
      "execution_count": null,
      "metadata": {
        "colab": {
          "base_uri": "https://localhost:8080/"
        },
        "id": "UxrRgQpmDK_g",
        "outputId": "f410a77b-0a41-4d64-e063-5adf21f66f61"
      },
      "outputs": [
        {
          "output_type": "stream",
          "name": "stdout",
          "text": [
            "Collecting opencv-python==4.7.0.68 (from -r requirements.txt (line 1))\n",
            "  Downloading opencv_python-4.7.0.68-cp37-abi3-manylinux_2_17_x86_64.manylinux2014_x86_64.whl.metadata (18 kB)\n",
            "Collecting pandas==1.5.3 (from -r requirements.txt (line 2))\n",
            "  Downloading pandas-1.5.3-cp311-cp311-manylinux_2_17_x86_64.manylinux2014_x86_64.whl.metadata (11 kB)\n",
            "Collecting gradio==3.16.2 (from -r requirements.txt (line 3))\n",
            "  Downloading gradio-3.16.2-py3-none-any.whl.metadata (14 kB)\n",
            "Collecting scikit-learn==1.2.1 (from -r requirements.txt (line 4))\n",
            "  Downloading scikit_learn-1.2.1-cp311-cp311-manylinux_2_17_x86_64.manylinux2014_x86_64.whl.metadata (11 kB)\n",
            "Collecting scikit-image==0.19.3 (from -r requirements.txt (line 5))\n",
            "  Downloading scikit-image-0.19.3.tar.gz (22.2 MB)\n",
            "\u001b[2K     \u001b[90m━━━━━━━━━━━━━━━━━━━━━━━━━━━━━━━━━━━━━━━━\u001b[0m \u001b[32m22.2/22.2 MB\u001b[0m \u001b[31m78.7 MB/s\u001b[0m eta \u001b[36m0:00:00\u001b[0m\n",
            "\u001b[?25h  Installing build dependencies ... \u001b[?25l\u001b[?25hdone\n"
          ]
        }
      ],
      "source": [
        "!pip install -r requirements.txt"
      ]
    },
    {
      "cell_type": "code",
      "execution_count": null,
      "metadata": {
        "colab": {
          "base_uri": "https://localhost:8080/"
        },
        "id": "G541ekZi5aLV",
        "outputId": "17c25288-e0fa-4bd9-b0ae-85d0b188af72"
      },
      "outputs": [
        {
          "name": "stdout",
          "output_type": "stream",
          "text": [
            "Running on local URL:  http://127.0.0.1:7860\n",
            "Running on public URL: https://92a07519-ac3e-487b.gradio.live\n",
            "\n",
            "This share link expires in 72 hours. For free permanent hosting and GPU upgrades (NEW!), check out Spaces: https://huggingface.co/spaces\n",
            "/usr/local/lib/python3.8/dist-packages/sklearn/cluster/_kmeans.py:870: FutureWarning: The default value of `n_init` will change from 10 to 'auto' in 1.4. Set the value of `n_init` explicitly to suppress the warning\n",
            "  warnings.warn(\n",
            "100% 10/10 [00:15<00:00,  1.55s/it]\n",
            "100% 7/7 [00:09<00:00,  1.39s/it]\n",
            "100% 7/7 [00:10<00:00,  1.44s/it]\n",
            "100% 7/7 [00:07<00:00,  1.03s/it]\n",
            "100% 7/7 [00:02<00:00,  2.46it/s]\n",
            "100% 7/7 [00:04<00:00,  1.69it/s]\n",
            "100% 7/7 [00:03<00:00,  2.23it/s]\n",
            "/usr/local/lib/python3.8/dist-packages/sklearn/cluster/_kmeans.py:870: FutureWarning: The default value of `n_init` will change from 10 to 'auto' in 1.4. Set the value of `n_init` explicitly to suppress the warning\n",
            "  warnings.warn(\n",
            "100% 10/10 [00:14<00:00,  1.44s/it]\n",
            "100% 9/9 [00:13<00:00,  1.51s/it]\n",
            "100% 9/9 [00:12<00:00,  1.33s/it]\n",
            "100% 9/9 [00:09<00:00,  1.02s/it]\n",
            "100% 9/9 [00:03<00:00,  2.45it/s]\n",
            "100% 9/9 [00:04<00:00,  1.94it/s]\n",
            "100% 9/9 [00:03<00:00,  2.28it/s]\n"
          ]
        }
      ],
      "source": [
        "!python demo.py share"
      ]
    },
    {
      "cell_type": "code",
      "execution_count": null,
      "metadata": {
        "id": "GusmVa6gV9ma"
      },
      "outputs": [],
      "source": []
    },
    {
      "cell_type": "code",
      "execution_count": null,
      "metadata": {
        "id": "L1CViUdy5aNT"
      },
      "outputs": [],
      "source": []
    },
    {
      "cell_type": "code",
      "execution_count": null,
      "metadata": {
        "id": "O_b4iI5a5aP-"
      },
      "outputs": [],
      "source": []
    }
  ],
  "metadata": {
    "colab": {
      "provenance": [],
      "include_colab_link": true
    },
    "kernelspec": {
      "display_name": "Python 3",
      "name": "python3"
    },
    "language_info": {
      "name": "python"
    }
  },
  "nbformat": 4,
  "nbformat_minor": 0
}